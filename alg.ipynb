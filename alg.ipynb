{
 "cells": [
  {
   "cell_type": "code",
   "execution_count": 9,
   "metadata": {},
   "outputs": [],
   "source": [
    "import numpy as np \n",
    "from Numerical_Objects.Vector import Vector\n",
    "\n",
    "import math"
   ]
  },
  {
   "cell_type": "code",
   "execution_count": 10,
   "metadata": {},
   "outputs": [],
   "source": [
    "def mul(x):\n",
    "    result = 1\n",
    "    for val in x.values:\n",
    "        result = result*val\n",
    "    return result"
   ]
  },
  {
   "cell_type": "code",
   "execution_count": 11,
   "metadata": {},
   "outputs": [],
   "source": [
    "def initialize(f, area, N):\n",
    "    point_list = []\n",
    "    \n",
    "    for i in range(N):\n",
    "        point = {k: np.random.uniform(low,up) for k, (low,up) in area.items()}\n",
    "        point = Vector(point)\n",
    "        point_list.append(point)\n",
    "        \n",
    "    fit_k = [f(point) for point in point_list]\n",
    "\n",
    "    return point_list, fit_k"
   ]
  },
  {
   "cell_type": "code",
   "execution_count": 13,
   "metadata": {},
   "outputs": [],
   "source": [
    "def length(velocity):\n",
    "    s = 0\n",
    "    \n",
    "    for val in velocity.values():\n",
    "            s += val**2      \n",
    "            \n",
    "    return math.sqrt(s)"
   ]
  },
  {
   "cell_type": "code",
   "execution_count": 14,
   "metadata": {},
   "outputs": [],
   "source": [
    "def get_speed(speed, area_v, M):\n",
    "    V = []\n",
    "\n",
    "    for i in range(M):\n",
    "        velocity = {k: np.random.uniform(low,up) for k, (low,up) in area_v.items()}\n",
    "        l = length(velocity)\n",
    "        vec = Vector({k: speed*(val/l) for k, val in velocity.items()})\n",
    "        V.append(vec)\n",
    "    return V"
   ]
  },
  {
   "cell_type": "code",
   "execution_count": 15,
   "metadata": {},
   "outputs": [],
   "source": [
    "area = {'x1': (-10, 10), 'x2': (-10, 10)}   # for fitness\n",
    "N = 2 # number of dolphins\n",
    "area_v = {'x1': (-10, 10), 'x2': (-10, 10)} # for speed\n",
    "speed = 10\n",
    "M = 2 # number of directions\n",
    "T1 = 2\n",
    "\n",
    "point_list, fit_k = initialize(mul, area, N)\n",
    "\n",
    "V = get_speed(speed, area_v, M)"
   ]
  },
  {
   "cell_type": "code",
   "execution_count": 16,
   "metadata": {},
   "outputs": [
    {
     "name": "stdout",
     "output_type": "stream",
     "text": [
      "(x1: 8.185653641809026) x (x2: 0.8721706785071461)\n",
      "(x1: -3.062312166815677) x (x2: -1.7571489673737428)\n"
     ]
    }
   ],
   "source": [
    "for point in point_list:\n",
    "    print(point)"
   ]
  },
  {
   "cell_type": "code",
   "execution_count": 17,
   "metadata": {},
   "outputs": [
    {
     "name": "stdout",
     "output_type": "stream",
     "text": [
      "[7.13928709080107, 5.3809386616962165]\n"
     ]
    }
   ],
   "source": [
    "print(fit_k)"
   ]
  },
  {
   "cell_type": "code",
   "execution_count": 18,
   "metadata": {},
   "outputs": [
    {
     "name": "stdout",
     "output_type": "stream",
     "text": [
      "V: (x1: -8.462417198220828) x (x2: 5.327991663211979)\n",
      "V: (x1: -5.993748010746316) x (x2: 8.004685177049412)\n"
     ]
    }
   ],
   "source": [
    "for v in V:\n",
    "    print('V:', v)"
   ]
  },
  {
   "cell_type": "code",
   "execution_count": 19,
   "metadata": {},
   "outputs": [],
   "source": [
    "def get_new_solution(f, point_list, T1, V):\n",
    "    solution = []\n",
    "    fitness = []\n",
    "    L = []\n",
    "    fit_l = []\n",
    "\n",
    "    for dol in point_list:\n",
    "        sol = [dol + v*t for v in V for t in range(1,T1+1)]\n",
    "        for s in sol:\n",
    "            print(s)\n",
    "        fit = list(map(f, sol))\n",
    "        for i in fit:\n",
    "            print(i)\n",
    "        solution.append(sol)\n",
    "        fitness.append(fit)\n",
    "        \n",
    "    for i in range(N):\n",
    "        m = min(fitness[i])\n",
    "        idx = fitness[i].index(m)\n",
    "        sol = solution[i]\n",
    "        sol_l = sol[idx]\n",
    "        L.append(sol_l)\n",
    "        fit_l.append(f(sol_l))\n",
    "    return L, fit_l"
   ]
  },
  {
   "cell_type": "code",
   "execution_count": 20,
   "metadata": {},
   "outputs": [
    {
     "name": "stdout",
     "output_type": "stream",
     "text": [
      "(x2: 6.200162341719125) x (x1: -0.2767635564118027)\n",
      "(x2: 11.528154004931103) x (x1: -8.739180754632631)\n",
      "(x2: 8.876855855556558) x (x1: 2.19190563106271)\n",
      "(x2: 16.88154103260597) x (x1: -3.801842379683606)\n",
      "-1.7159789800247158\n",
      "-100.74662161633499\n",
      "19.457230335926408\n",
      "-64.18095813212912\n",
      "(x2: 3.5708426958382358) x (x1: -11.524729365036507)\n",
      "(x2: 8.898834359050214) x (x1: -19.987146563257333)\n",
      "(x2: 6.247536209675669) x (x1: -9.056060177561992)\n",
      "(x2: 14.25222138672508) x (x1: -15.049808188308308)\n",
      "-41.15299567465304\n",
      "-177.86230657648676\n",
      "-56.578063876320414\n",
      "-214.4931981275179\n"
     ]
    }
   ],
   "source": [
    "L, fit_l = get_new_solution(mul, point_list, T1, V)"
   ]
  },
  {
   "cell_type": "code",
   "execution_count": 21,
   "metadata": {},
   "outputs": [
    {
     "name": "stdout",
     "output_type": "stream",
     "text": [
      "-100.74662161633499\n",
      "-214.4931981275179\n",
      "(x2: 11.528154004931103) x (x1: -8.739180754632631)\n",
      "(x2: 14.25222138672508) x (x1: -15.049808188308308)\n"
     ]
    }
   ],
   "source": [
    "for f in fit_l:\n",
    "    print(f)\n",
    "for i in L:\n",
    "    print(i)"
   ]
  }
 ],
 "metadata": {
  "kernelspec": {
   "display_name": "Python 3",
   "language": "python",
   "name": "python3"
  },
  "language_info": {
   "codemirror_mode": {
    "name": "ipython",
    "version": 3
   },
   "file_extension": ".py",
   "mimetype": "text/x-python",
   "name": "python",
   "nbconvert_exporter": "python",
   "pygments_lexer": "ipython3",
   "version": "3.6.6"
  }
 },
 "nbformat": 4,
 "nbformat_minor": 2
}
