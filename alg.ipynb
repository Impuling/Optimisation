{
 "cells": [
  {
   "cell_type": "code",
   "execution_count": 8,
   "metadata": {},
   "outputs": [],
   "source": [
    "import numpy as np \n",
    "from Numerical_Objects.Vector import Vector\n",
    "\n",
    "import math"
   ]
  },
  {
   "cell_type": "code",
   "execution_count": 3,
   "metadata": {},
   "outputs": [],
   "source": [
    "def mul(x):\n",
    "    result = 1\n",
    "    for val in x.values:\n",
    "        result = result*val\n",
    "    return result"
   ]
  },
  {
   "cell_type": "code",
   "execution_count": 4,
   "metadata": {},
   "outputs": [],
   "source": [
    "def initialize(f, area, N):\n",
    "    point_list = []\n",
    "    \n",
    "    for i in range(N):\n",
    "        point = {k: np.random.uniform(low,up) for k, (low,up) in area.items()}\n",
    "        point = Vector(point)\n",
    "        point_list.append(point)\n",
    "        \n",
    "    fit_k = [f(point) for point in point_list]\n",
    "\n",
    "    return point_list, fit_k"
   ]
  },
  {
   "cell_type": "code",
   "execution_count": 5,
   "metadata": {},
   "outputs": [],
   "source": [
    "area = {'x1': (-10, 10), 'x2': (-10, 10)}\n",
    "point_list, fit_k = initialize(mul, area, 10)"
   ]
  },
  {
   "cell_type": "code",
   "execution_count": 6,
   "metadata": {},
   "outputs": [
    {
     "name": "stdout",
     "output_type": "stream",
     "text": [
      "(x1: -4.779255671503028) x (x2: -3.281591639982338)\n",
      "(x1: 2.21320487988425) x (x2: -3.154521382477138)\n",
      "(x1: -5.943480528687863) x (x2: 1.5121567954348478)\n",
      "(x1: -3.196277506718075) x (x2: 1.1802943795013991)\n",
      "(x1: -7.219989578816763) x (x2: 6.323887793471446)\n",
      "(x1: 7.9573089858171) x (x2: -1.725609739484666)\n",
      "(x1: 6.231725764492321) x (x2: 1.009173571380158)\n",
      "(x1: -8.270744885515583) x (x2: 1.5968274980113293)\n",
      "(x1: -8.376584879024282) x (x2: -3.1271831084980324)\n",
      "(x1: -6.624354909364847) x (x2: 9.207493643715562)\n"
     ]
    }
   ],
   "source": [
    "for point in point_list:\n",
    "    print(point)"
   ]
  },
  {
   "cell_type": "code",
   "execution_count": 7,
   "metadata": {},
   "outputs": [
    {
     "name": "stdout",
     "output_type": "stream",
     "text": [
      "[15.683565456942512, -6.981602117397612, -8.987474469990055, -3.7725483765060894, -45.658403966470374, -13.731209886014838, 6.28889294561446, -13.206952862227848, 26.19511474058477, -60.993705721692805]\n"
     ]
    }
   ],
   "source": [
    "print(fit_k)"
   ]
  },
  {
   "cell_type": "code",
   "execution_count": 14,
   "metadata": {},
   "outputs": [],
   "source": [
    "def length(velocity):\n",
    "    s = 0\n",
    "    \n",
    "    for val in velocity.values():\n",
    "            s += val**2      \n",
    "            \n",
    "    return math.sqrt(s)"
   ]
  },
  {
   "cell_type": "code",
   "execution_count": 15,
   "metadata": {},
   "outputs": [],
   "source": [
    "def get_speed(speed, area_v, M):\n",
    "    V = []\n",
    "\n",
    "    for i in range(M):\n",
    "        velocity = {k: np.random.uniform(low,up) for k, (low,up) in area_v.items()}\n",
    "        print('velocity: ', velocity)\n",
    "        l = length(velocity)\n",
    "        vec = Vector({k: speed*(val/l) for k, val in velocity.items()})\n",
    "        V.append(vec)\n",
    "    return V"
   ]
  },
  {
   "cell_type": "code",
   "execution_count": 16,
   "metadata": {},
   "outputs": [
    {
     "name": "stdout",
     "output_type": "stream",
     "text": [
      "velocity:  {'x1': 8.066954750990426, 'x2': -9.187776011953622}\n",
      "velocity:  {'x1': 6.326749449073336, 'x2': 0.7669554220455623}\n",
      "velocity:  {'x1': 4.082816835226005, 'x2': -6.093414527717947}\n",
      "velocity:  {'x1': 3.9124552676297792, 'x2': 1.799296177532133}\n",
      "velocity:  {'x1': 4.002829113000336, 'x2': -8.734126522092453}\n",
      "V: (x1: 6.597845115628722) x (x2: -7.514548544668152)\n",
      "V: (x1: 9.927323442773012) x (x2: 1.2034322841644942)\n",
      "V: (x1: 5.566374427486523) x (x2: -8.307555340352785)\n",
      "V: (x1: 9.085286452409754) x (x2: 4.178225709276584)\n",
      "V: (x1: 4.166278558004982) x (x2: -9.090771308151357)\n"
     ]
    }
   ],
   "source": [
    "speed = 10\n",
    "area_v = {'x1': (-10, 10), 'x2': (-10, 10)}\n",
    "M = 5\n",
    "\n",
    "V = get_speed(speed, area_v, M)\n",
    "\n",
    "for v in V:\n",
    "    print('V:', v)"
   ]
  }
 ],
 "metadata": {
  "kernelspec": {
   "display_name": "Python 3",
   "language": "python",
   "name": "python3"
  }
 },
 "nbformat": 4,
 "nbformat_minor": 2
}
