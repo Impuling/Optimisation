{
 "cells": [
  {
   "cell_type": "code",
   "execution_count": 2,
   "metadata": {},
   "outputs": [],
   "source": [
    "import numpy as np \n",
    "import Numerical_Objects.Vector\n",
    "from Numerical_Objects.Vector import Vector"
   ]
  },
  {
   "cell_type": "code",
   "execution_count": 3,
   "metadata": {},
   "outputs": [],
   "source": [
    "def mul(x):\n",
    "    values = x.values\n",
    "    result = 1\n",
    "    for val in values:\n",
    "        result = result*val\n",
    "    return result"
   ]
  },
  {
   "cell_type": "code",
   "execution_count": 4,
   "metadata": {},
   "outputs": [],
   "source": [
    "def initialize(f, area, N):\n",
    "    point_list = []\n",
    "    \n",
    "    for i in range(N):\n",
    "        point = {}\n",
    "        point = {k: np.random.uniform(low,up) for k, (low,up) in area.items()}\n",
    "        point = Vector(point)\n",
    "        point_list.append(point)\n",
    "        \n",
    "    fit_k = [f(point) for point in point_list]\n",
    "\n",
    "    return point_list, fit_k"
   ]
  },
  {
   "cell_type": "code",
   "execution_count": 5,
   "metadata": {},
   "outputs": [],
   "source": [
    "area = {'x1': (-10, 10), 'x2': (-10, 10)}\n",
    "point_list, fit_k = initialize(mul, area, 10)"
   ]
  },
  {
   "cell_type": "code",
   "execution_count": 6,
   "metadata": {},
   "outputs": [
    {
     "name": "stdout",
     "output_type": "stream",
     "text": [
      "(x1: -0.5417408900764737) x (x2: 3.1408661132690323)\n",
      "(x1: -9.155648626723853) x (x2: 0.1981573092855271)\n",
      "(x1: -2.0184081659351305) x (x2: 9.029203277043106)\n",
      "(x1: 6.0672392843067335) x (x2: 9.025917640195726)\n",
      "(x1: -3.001968996217636) x (x2: -3.576673203038709)\n",
      "(x1: 1.0505638578217784) x (x2: -9.100167676388866)\n",
      "(x1: -2.175926523402987) x (x2: -6.65777501137179)\n",
      "(x1: -4.774568687379843) x (x2: 1.8404554563309627)\n",
      "(x1: -8.315977556336534) x (x2: -9.199316126856216)\n",
      "(x1: -3.7554058843280718) x (x2: -4.378676542250368)\n"
     ]
    }
   ],
   "source": [
    "for point in point_list:\n",
    "    print(point)"
   ]
  },
  {
   "cell_type": "code",
   "execution_count": 7,
   "metadata": {},
   "outputs": [
    {
     "name": "stdout",
     "output_type": "stream",
     "text": [
      "[-1.7015356038134002, -1.81425869663533, -18.224617626272046, 54.76240208351263, 10.737062065124631, -9.560307260932136, 14.486829234093502, -8.787380992315196, 76.50130644458102, 16.443707652336325]\n"
     ]
    }
   ],
   "source": [
    "print(fit_k)"
   ]
  }
 ],
 "metadata": {
  "kernelspec": {
   "display_name": "Python 3",
   "language": "python",
   "name": "python3"
  },
  "language_info": {
   "codemirror_mode": {
    "name": "ipython",
    "version": 3
   },
   "file_extension": ".py",
   "mimetype": "text/x-python",
   "name": "python",
   "nbconvert_exporter": "python",
   "pygments_lexer": "ipython3",
   "version": "3.6.6"
  }
 },
 "nbformat": 4,
 "nbformat_minor": 2
}
