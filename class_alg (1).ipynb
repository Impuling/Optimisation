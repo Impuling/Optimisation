{
 "cells": [
  {
   "cell_type": "code",
   "execution_count": 2,
   "metadata": {},
   "outputs": [],
   "source": [
    "from Optimization.Algorithms.Algorithm import Algorithm\n",
    "from Numerical_Objects.Vector import Vector\n",
    "\n",
    "import numpy as np "
   ]
  },
  {
   "cell_type": "code",
   "execution_count": 75,
   "metadata": {},
   "outputs": [],
   "source": [
    "class DolphinSearch(Algorithm):\n",
    "\n",
    "    def __init__(self, N, T1, T2, speed, M, A, e):\n",
    "        self._k = None\n",
    "        self._f_k = None\n",
    "        self._TS = np.full((N, N), np.inf)\n",
    "        self._N = N\n",
    "        self._T1 = T1\n",
    "        self._T2 = T2\n",
    "        self._speed = speed\n",
    "        self._M = M\n",
    "        self._A = A\n",
    "        self._e = e\n",
    "\n",
    "    @classmethod\n",
    "    def from_dict(cls, dict_data):\n",
    "        raise Exception(\"I don't want to do it and I'll not\")\n",
    "\n",
    "    @classmethod\n",
    "    def from_json(cls, json_data):\n",
    "        raise Exception('To be not-json or not to be not-json?')\n",
    "\n",
    "    def to_dict(self):\n",
    "        raise Exception('Why?')\n",
    "\n",
    "    def to_json(self):\n",
    "        raise Exception('No.')\n",
    "\n",
    "    @property\n",
    "    def current_state(self):\n",
    "        raise Exception(\"U definitely don't need it!\")\n",
    "\n",
    "    @property\n",
    "    def iterations(self):\n",
    "        return [self.get_new_solution,\n",
    "                # self.information_transfer,\n",
    "                # self.get_optimal_solution\n",
    "        ]\n",
    "\n",
    "    def initialize(self, f, area, seed = None):\n",
    "        self._k = []\n",
    "        self._f_k = []\n",
    "        for i in range(self._N):\n",
    "            point = {k: np.random.uniform(low, up) for k, (low, up) in area.items()}\n",
    "            point = Vector(point)\n",
    "            self._k.append(point)\n",
    "            self._f_k.append(f(point))\n",
    "\n",
    "    def get_new_solution(self, f, area):\n",
    "        V_dol = []\n",
    "        solution = []\n",
    "        fitness = []\n",
    "        l = []\n",
    "        fit_l = []\n",
    "        area_v = {k: (-1, 1) for k in area.keys()}\n",
    "        print(area_v)\n",
    "\n",
    "        for i in range(self._N):\n",
    "            V = []\n",
    "            for m in range(self._M):\n",
    "                velocity = {k: np.random.uniform(low, up) for k, (low, up) in area_v.items()}\n",
    "                lgth = Vector(velocity).length\n",
    "                vec = Vector({k: self._speed * (val / lgth) for k, val in velocity.items()})\n",
    "                V.append(vec)\n",
    "                V_dol.append(V)\n",
    "        for i in range(self._N):\n",
    "            for v in V_dol[i]:\n",
    "                print(i, v)\n",
    "\n",
    "        for i in range(self._N):\n",
    "            sol = [self._k[i] + v * t for v in V_dol[i] for t in range(1, self._T1 + 1)]\n",
    "            print('sol: ', sol)\n",
    "            fit = list(map(f, sol))\n",
    "            solution.append(sol)\n",
    "            fitness.append(fit)\n",
    "        \n",
    "        for i in range(self._N):\n",
    "            idx = np.argmin(fitness[i])\n",
    "            sol = solution[i]\n",
    "            sol_l = sol[idx]\n",
    "            l.append(sol_l)\n",
    "            print(l[i])\n",
    "            fit_l.append(f(sol_l))\n",
    "            print(fit_l[i])\n",
    "\n",
    "            if fit_l[i] < self._f_k[i]:\n",
    "                self._k[i] = l[i]\n",
    "                self._f_k[i] = fit_l[i]\n",
    "        # return self.information_transfer"
   ]
  },
  {
   "cell_type": "code",
   "execution_count": 76,
   "metadata": {
    "scrolled": true
   },
   "outputs": [
    {
     "name": "stdout",
     "output_type": "stream",
     "text": [
      "{'x1': (-1, 1), 'x2': (-1, 1)}\n",
      "0 (x1: 2.0167193361804854) x (x2: 4.575242410963133)\n",
      "0 (x1: 3.41301938753245) x (x2: 3.653942892318875)\n",
      "1 (x1: 2.0167193361804854) x (x2: 4.575242410963133)\n",
      "1 (x1: 3.41301938753245) x (x2: 3.653942892318875)\n",
      "sol:  [<Numerical_Objects.Vector.Vector object at 0x7f07f4221710>, <Numerical_Objects.Vector.Vector object at 0x7f07f42216d8>, <Numerical_Objects.Vector.Vector object at 0x7f07f4221550>, <Numerical_Objects.Vector.Vector object at 0x7f07f42219e8>]\n",
      "sol:  [<Numerical_Objects.Vector.Vector object at 0x7f07f4221898>, <Numerical_Objects.Vector.Vector object at 0x7f07f42219b0>, <Numerical_Objects.Vector.Vector object at 0x7f07f4221160>, <Numerical_Objects.Vector.Vector object at 0x7f07f4221860>]\n",
      "(x2: 12.761456868592782) x (x1: 10.597203445449896)\n",
      "135.23575469681168\n",
      "(x2: 13.202443247929692) x (x1: 1.1559216557684922)\n",
      "15.260990059336438\n"
     ]
    }
   ],
   "source": [
    "alg = DolphinSearch(N=2, T1=2, T2=3, speed=5, M=2, A=5, e=2)\n",
    "\n",
    "def mul(x):\n",
    "    result = 1\n",
    "    for val in x.values:\n",
    "        result = result*val\n",
    "    return result\n",
    "\n",
    "area = {'x1': (-10, 10), 'x2': (-10, 10)}\n",
    "alg.initialize(mul, area)\n",
    "alg.get_new_solution(mul, area)"
   ]
  },
  {
   "cell_type": "code",
   "execution_count": 37,
   "metadata": {},
   "outputs": [],
   "source": [
    "def mul(x):\n",
    "    result = 1\n",
    "    for val in x.values:\n",
    "        result = result*val\n",
    "    return result"
   ]
  },
  {
   "cell_type": "code",
   "execution_count": 38,
   "metadata": {},
   "outputs": [],
   "source": [
    "area = {'x1': (-10, 10), 'x2': (-10, 10)}"
   ]
  },
  {
   "cell_type": "code",
   "execution_count": 39,
   "metadata": {},
   "outputs": [],
   "source": [
    "alg.initialize(mul, area)"
   ]
  },
  {
   "cell_type": "code",
   "execution_count": 34,
   "metadata": {},
   "outputs": [
    {
     "data": {
      "text/plain": [
       "<Numerical_Objects.Vector.Vector at 0x7f07f425f6a0>"
      ]
     },
     "execution_count": 34,
     "metadata": {},
     "output_type": "execute_result"
    }
   ],
   "source": [
    "alg._k[1]"
   ]
  },
  {
   "cell_type": "code",
   "execution_count": 26,
   "metadata": {},
   "outputs": [
    {
     "name": "stdout",
     "output_type": "stream",
     "text": [
      "3.9591837457573194\n",
      "-4.82609112805192\n",
      "-3.1913659513096375\n",
      "6.478630971358232\n",
      "7.785394584083984\n",
      "-1.3123781132620733\n",
      "59.34051225119608\n",
      "30.326894686733247\n",
      "38.34731181267413\n",
      "14.285251951140339\n"
     ]
    }
   ],
   "source": [
    "for f in alg._f_k:\n",
    "    print(f)"
   ]
  },
  {
   "cell_type": "code",
   "execution_count": 77,
   "metadata": {},
   "outputs": [
    {
     "name": "stdout",
     "output_type": "stream",
     "text": [
      "{'x1': (-1, 1), 'x2': (-1, 1)}\n",
      "0 (x1: -3.2442193647148705) x (x2: -3.8046078265189234)\n",
      "0 (x1: -4.123354364968144) x (x2: -2.8280644937656847)\n",
      "1 (x1: -3.2442193647148705) x (x2: -3.8046078265189234)\n",
      "1 (x1: -4.123354364968144) x (x2: -2.8280644937656847)\n",
      "sol:  [<Numerical_Objects.Vector.Vector object at 0x7f07f427cb70>, <Numerical_Objects.Vector.Vector object at 0x7f07f427cda0>, <Numerical_Objects.Vector.Vector object at 0x7f07f427cef0>, <Numerical_Objects.Vector.Vector object at 0x7f07f427cfd0>]\n",
      "sol:  [<Numerical_Objects.Vector.Vector object at 0x7f07f427c0b8>, <Numerical_Objects.Vector.Vector object at 0x7f07f42c8cf8>, <Numerical_Objects.Vector.Vector object at 0x7f07f42c8128>, <Numerical_Objects.Vector.Vector object at 0x7f07f42c8f60>]\n",
      "(x2: 2.53008547009828) x (x1: 0.3337753793331224)\n",
      "0.8444802375272747\n",
      "(x2: 5.799136343200874) x (x1: -4.984152045380137)\n",
      "-28.903777266402923\n"
     ]
    }
   ],
   "source": [
    "alg.get_new_solution(mul, area)"
   ]
  },
  {
   "cell_type": "code",
   "execution_count": 66,
   "metadata": {},
   "outputs": [
    {
     "name": "stdout",
     "output_type": "stream",
     "text": [
      "(x2: 0.645792525420753) x (x1: -5.655395840299988)\n",
      "(x2: -3.250295595652916) x (x1: -0.4736085084722692)\n",
      "(x1: 8.284582818378933) x (x2: -7.0785437323096945)\n",
      "(x1: 9.647171213452545) x (x2: -4.249865626137506)\n",
      "(x1: 1.738462689252227) x (x2: -7.039412471483595)\n",
      "(x2: 7.750915852153203) x (x1: -0.3453982426678994)\n",
      "(x2: 9.391695691621859) x (x1: -1.2390641121831845)\n",
      "(x2: 1.3599751156093507) x (x1: -16.21468471515431)\n",
      "(x2: 5.735743515049177) x (x1: -14.544415268598827)\n",
      "(x2: 5.9868073203449335) x (x1: -5.252520723521485)\n"
     ]
    }
   ],
   "source": [
    "for k in alg._k:\n",
    "    print(k)"
   ]
  }
 ],
 "metadata": {
  "kernelspec": {
   "display_name": "Python 3",
   "language": "python",
   "name": "python3"
  },
  "language_info": {
   "codemirror_mode": {
    "name": "ipython",
    "version": 3
   },
   "file_extension": ".py",
   "mimetype": "text/x-python",
   "name": "python",
   "nbconvert_exporter": "python",
   "pygments_lexer": "ipython3",
   "version": "3.6.5"
  }
 },
 "nbformat": 4,
 "nbformat_minor": 2
}
