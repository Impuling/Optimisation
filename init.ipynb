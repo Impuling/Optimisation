{
 "cells": [
  {
   "cell_type": "code",
   "execution_count": 22,
   "metadata": {},
   "outputs": [],
   "source": [
    "import numpy as np \n",
    "from Numerical_Objects.Vector import Vector"
   ]
  },
  {
   "cell_type": "code",
   "execution_count": 23,
   "metadata": {},
   "outputs": [],
   "source": [
    "def mul(x):\n",
    "    result = 1\n",
    "    for val in x.values:\n",
    "        result = result*val\n",
    "    return result"
   ]
  },
  {
   "cell_type": "code",
   "execution_count": 24,
   "metadata": {},
   "outputs": [],
   "source": [
    "def initialize(f, area, N):\n",
    "    point_list = []\n",
    "    \n",
    "    for i in range(N):\n",
    "        point = {k: np.random.uniform(low,up) for k, (low,up) in area.items()}\n",
    "        point = Vector(point)\n",
    "        point_list.append(point)\n",
    "        \n",
    "    fit_k = [f(point) for point in point_list]\n",
    "\n",
    "    return point_list, fit_k"
   ]
  },
  {
   "cell_type": "code",
   "execution_count": 25,
   "metadata": {},
   "outputs": [],
   "source": [
    "area = {'x1': (-10, 10), 'x2': (-10, 10)}\n",
    "point_list, fit_k = initialize(mul, area, 10)"
   ]
  },
  {
   "cell_type": "code",
   "execution_count": 26,
   "metadata": {},
   "outputs": [
    {
     "name": "stdout",
     "output_type": "stream",
     "text": [
      "(x1: -7.948826523954374) x (x2: -5.905717381998718)\n",
      "(x1: 6.486361322211621) x (x2: -6.472806530779696)\n",
      "(x1: -9.628277999441543) x (x2: -1.124723091151223)\n",
      "(x1: 9.04488932428633) x (x2: -5.500703600923577)\n",
      "(x1: 6.261851949322583) x (x2: 4.920027913671488)\n",
      "(x1: -7.678164711115492) x (x2: 3.9511500091091616)\n",
      "(x1: -1.8268559588107607) x (x2: 5.738331649334485)\n",
      "(x1: 5.671357746057435) x (x2: 1.0752087018252467)\n",
      "(x1: 3.4747305584882753) x (x2: -0.1880010112921049)\n",
      "(x1: 7.6270404124602535) x (x2: 6.057202990081777)\n"
     ]
    }
   ],
   "source": [
    "for point in point_list:\n",
    "    print(point)"
   ]
  },
  {
   "cell_type": "code",
   "execution_count": 27,
   "metadata": {},
   "outputs": [
    {
     "name": "stdout",
     "output_type": "stream",
     "text": [
      "[46.94352296900979, -41.98496192740821, 10.829146593995205, -49.75325527605704, 30.80848638194533, -30.33758056826562, -10.483105367219085, 6.097893199724972, -0.6532528589633761, 46.198531991828794]\n"
     ]
    }
   ],
   "source": [
    "print(fit_k)"
   ]
  }
 ],
 "metadata": {
  "kernelspec": {
   "display_name": "Python 3",
   "language": "python",
   "name": "python3"
  },
  "language_info": {
   "codemirror_mode": {
    "name": "ipython",
    "version": 3
   },
   "file_extension": ".py",
   "mimetype": "text/x-python",
   "name": "python",
   "nbconvert_exporter": "python",
   "pygments_lexer": "ipython3",
   "version": "3.6.6"
  }
 },
 "nbformat": 4,
 "nbformat_minor": 2
}
