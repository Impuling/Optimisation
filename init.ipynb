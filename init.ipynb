{
 "cells": [
  {
   "cell_type": "code",
   "execution_count": 1,
   "metadata": {},
   "outputs": [],
   "source": [
    "import numpy as np \n",
    "import Numerical_Objects.Vector\n",
    "from Numerical_Objects.Vector import Vector"
   ]
  },
  {
   "cell_type": "code",
   "execution_count": 9,
   "metadata": {},
   "outputs": [],
   "source": [
    "def mul(x):\n",
    "    values = x.values\n",
    "    result = 1\n",
    "    for val in values:\n",
    "        result = result*val\n",
    "    return result"
   ]
  },
  {
   "cell_type": "code",
   "execution_count": 15,
   "metadata": {},
   "outputs": [],
   "source": [
    "def initialize(f, area, N):\n",
    "    point_list = []\n",
    "    i = 0\n",
    "\n",
    "    while i < N:\n",
    "        point = {}\n",
    "        for k, (low,up) in area.items():\n",
    "            point[k] = np.random.uniform(low,up)\n",
    "        point = Vector(point)\n",
    "        point_list.append(point)\n",
    "        i += 1\n",
    "    fit_k = []\n",
    "\n",
    "    for point in point_list:\n",
    "        fit_k.append(f(point))\n",
    "\n",
    "    return point_list, fit_k"
   ]
  },
  {
   "cell_type": "code",
   "execution_count": 16,
   "metadata": {},
   "outputs": [],
   "source": [
    "area = {'x1': (-10, 10), 'x2': (-10, 10)}\n",
    "point_list, fit_k = initialize(mul, area, 10)"
   ]
  },
  {
   "cell_type": "code",
   "execution_count": 17,
   "metadata": {},
   "outputs": [
    {
     "name": "stdout",
     "output_type": "stream",
     "text": [
      "(x1: 6.966067239457324) x (x2: -0.13533099331322695)\n",
      "(x1: 0.11730587829326744) x (x2: -1.853972551447045)\n",
      "(x1: -5.284060510940069) x (x2: 5.0839226851458506)\n",
      "(x1: 1.7484910439734573) x (x2: -9.675385524220045)\n",
      "(x1: 0.48998341383937216) x (x2: 7.16888822881333)\n",
      "(x1: 1.3520579696788886) x (x2: -1.68167599371872)\n",
      "(x1: 6.077874747206685) x (x2: -4.358972491287467)\n",
      "(x1: 4.946975355590817) x (x2: 7.4161173937571405)\n",
      "(x1: 2.536664927307813) x (x2: -3.6969117878208664)\n",
      "(x1: -7.34819727447962) x (x2: 2.7648367342245024)\n"
     ]
    }
   ],
   "source": [
    "for point in point_list:\n",
    "    print(point)"
   ]
  },
  {
   "cell_type": "code",
   "execution_count": 18,
   "metadata": {},
   "outputs": [
    {
     "name": "stdout",
     "output_type": "stream",
     "text": [
      "[-0.9427247990024885, -0.21748187847910558, -26.86375510125159, -16.917324936089184, 3.5126363277868458, -2.27372342972506, -26.49328882856471, 36.68734998108498, -9.377826471516014, -20.316565754809623]\n"
     ]
    }
   ],
   "source": [
    "print(fit_k)"
   ]
  }
 ],
 "metadata": {
  "kernelspec": {
   "display_name": "Python 3",
   "language": "python",
   "name": "python3"
  },
  "language_info": {
   "codemirror_mode": {
    "name": "ipython",
    "version": 3
   },
   "file_extension": ".py",
   "mimetype": "text/x-python",
   "name": "python",
   "nbconvert_exporter": "python",
   "pygments_lexer": "ipython3",
   "version": "3.6.6"
  }
 },
 "nbformat": 4,
 "nbformat_minor": 2
}
