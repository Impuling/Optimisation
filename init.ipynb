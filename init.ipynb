{
 "cells": [
  {
   "cell_type": "code",
   "execution_count": 19,
   "metadata": {},
   "outputs": [],
   "source": [
    "import numpy as np \n",
    "import Numerical_Objects.Vector\n",
    "from Numerical_Objects.Vector import Vector"
   ]
  },
  {
   "cell_type": "code",
   "execution_count": 20,
   "metadata": {},
   "outputs": [],
   "source": [
    "def mul(x):\n",
    "    values = x.values\n",
    "    result = 1\n",
    "    for val in values:\n",
    "        result = result*val\n",
    "    return result"
   ]
  },
  {
   "cell_type": "code",
   "execution_count": 48,
   "metadata": {},
   "outputs": [],
   "source": [
    "def initialize(f, area, N):\n",
    "    point_list = []\n",
    "    \n",
    "    for i in range(N):\n",
    "        point = {}\n",
    "        point = {k: np.random.uniform(low,up) for k, (low,up) in area.items()}\n",
    "        point = Vector(point)\n",
    "        point_list.append(point)\n",
    "        \n",
    "    fit_k = []\n",
    "\n",
    "    for point in point_list:\n",
    "        fit_k.append(f(point))\n",
    "\n",
    "    return point_list, fit_k"
   ]
  },
  {
   "cell_type": "code",
   "execution_count": 49,
   "metadata": {},
   "outputs": [],
   "source": [
    "area = {'x1': (-10, 10), 'x2': (-10, 10)}\n",
    "point_list, fit_k = initialize(mul, area, 10)"
   ]
  },
  {
   "cell_type": "code",
   "execution_count": 50,
   "metadata": {},
   "outputs": [
    {
     "name": "stdout",
     "output_type": "stream",
     "text": [
      "(x1: -8.10624640829664) x (x2: -4.893207037004867)\n",
      "(x1: -9.79265665133343) x (x2: 7.532010367257037)\n",
      "(x1: -2.9199181777895733) x (x2: 6.976184697570314)\n",
      "(x1: -9.736743731775226) x (x2: -2.0338340123411047)\n",
      "(x1: 1.4576675620338655) x (x2: 3.681824865598184)\n",
      "(x1: -7.44774801739813) x (x2: 2.8064285048596247)\n",
      "(x1: -0.7164256967098268) x (x2: 2.0826194401528433)\n",
      "(x1: 5.568540599869678) x (x2: -3.671229632670661)\n",
      "(x1: -9.406655012732259) x (x2: -8.53057990590711)\n",
      "(x1: -9.790445309005724) x (x2: -0.8851014489633418)\n"
     ]
    }
   ],
   "source": [
    "for point in point_list:\n",
    "    print(point)"
   ]
  },
  {
   "cell_type": "code",
   "execution_count": 51,
   "metadata": {},
   "outputs": [
    {
     "name": "stdout",
     "output_type": "stream",
     "text": [
      "[39.665541968772544, -73.75839142083198, -20.369888510053016, 19.80292057113351, 5.366876675672169, -20.90157233303787, -1.4920420833929302, -20.44339126097122, 80.2442222334142, 8.665537328997319]\n"
     ]
    }
   ],
   "source": [
    "print(fit_k)"
   ]
  }
 ],
 "metadata": {
  "kernelspec": {
   "display_name": "Python 3",
   "language": "python",
   "name": "python3"
  },
  "language_info": {
   "codemirror_mode": {
    "name": "ipython",
    "version": 3
   },
   "file_extension": ".py",
   "mimetype": "text/x-python",
   "name": "python",
   "nbconvert_exporter": "python",
   "pygments_lexer": "ipython3",
   "version": "3.6.6"
  }
 },
 "nbformat": 4,
 "nbformat_minor": 2
}
