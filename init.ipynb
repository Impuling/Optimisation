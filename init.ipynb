{
 "cells": [
  {
   "cell_type": "code",
   "execution_count": 1,
   "metadata": {},
   "outputs": [],
   "source": [
    "import numpy as np \n",
    "import Numerical_Objects.Vector\n",
    "from Numerical_Objects.Vector import Vector"
   ]
  },
  {
   "cell_type": "code",
   "execution_count": 2,
   "metadata": {},
   "outputs": [],
   "source": [
    "def apply_function(f, num):\n",
    "    return f(num)"
   ]
  },
  {
   "cell_type": "code",
   "execution_count": 3,
   "metadata": {},
   "outputs": [],
   "source": [
    "def initialize(f, area, N):\n",
    "    point_list = []\n",
    "    i = 0\n",
    "\n",
    "    while i < N:\n",
    "        point = {}\n",
    "        for k, (low,up) in area.items():\n",
    "            point[k] = np.random.uniform(low,up)\n",
    "        point = Vector(point)\n",
    "        point_list.append(point)\n",
    "        i += 1\n",
    "\n",
    "    fit_k = []\n",
    "\n",
    "    for point in point_list:\n",
    "        fitness = apply_function(f, point)\n",
    "        fit_k.append(fitness)\n",
    "\n",
    "    return point_list, fit_k"
   ]
  },
  {
   "cell_type": "code",
   "execution_count": null,
   "metadata": {},
   "outputs": [],
   "source": []
  }
 ],
 "metadata": {
  "kernelspec": {
   "display_name": "Python 3",
   "language": "python",
   "name": "python3"
  },
  "language_info": {
   "codemirror_mode": {
    "name": "ipython",
    "version": 3
   },
   "file_extension": ".py",
   "mimetype": "text/x-python",
   "name": "python",
   "nbconvert_exporter": "python",
   "pygments_lexer": "ipython3",
   "version": "3.6.6"
  }
 },
 "nbformat": 4,
 "nbformat_minor": 2
}
