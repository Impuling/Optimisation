{
 "cells": [
  {
   "cell_type": "code",
   "execution_count": 1,
   "metadata": {},
   "outputs": [],
   "source": [
    "from Numerical_Objects.Vector import Vector\n",
    "\n",
    "import numpy as np \n",
    "import math"
   ]
  },
  {
   "cell_type": "code",
   "execution_count": 7,
   "metadata": {},
   "outputs": [],
   "source": [
    "def get_speed(speed, area_v, M):\n",
    "    V = []\n",
    "\n",
    "    for i in range(M):\n",
    "        velocity = {k: np.random.uniform(low,up) for k, (low,up) in area_v.items()}\n",
    "        s = 0\n",
    "        print('velocity: ', velocity)\n",
    "        \n",
    "        for val in velocity.values():\n",
    "            s += val**2\n",
    "            \n",
    "        length = math.sqrt(s)\n",
    "        vec = Vector({k: speed*(val/length) for k, val in velocity.items()})\n",
    "        V.append(vec)\n",
    "    return V"
   ]
  },
  {
   "cell_type": "code",
   "execution_count": 12,
   "metadata": {},
   "outputs": [
    {
     "name": "stdout",
     "output_type": "stream",
     "text": [
      "velocity:  {'x1': -4.70114605814941, 'x2': 4.77860664505036}\n",
      "velocity:  {'x1': -5.5544136495209635, 'x2': -0.6397156616652584}\n",
      "velocity:  {'x1': -2.3149212547887448, 'x2': 3.875167838246682}\n",
      "velocity:  {'x1': 5.453591932361324, 'x2': -3.4202659720957396}\n",
      "velocity:  {'x1': 3.685324970429246, 'x2': 7.636945422808953}\n",
      "V: (x1: -7.013054857871027) x (x2: 7.128608669333138)\n",
      "V: (x1: -9.934329096754368) x (x2: -1.1441614385127303)\n",
      "V: (x1: -5.12836626979705) x (x2: 8.584862223868704)\n",
      "V: (x1: 8.47175468529711) x (x2: -5.313132084952006)\n",
      "V: (x1: 4.346078703730416) x (x2: 9.006197860417068)\n"
     ]
    }
   ],
   "source": [
    "speed = 10\n",
    "area_v = {'x1': (-10, 10), 'x2': (-10, 10)}\n",
    "M = 5\n",
    "\n",
    "V = get_speed(speed, area_v, M)\n",
    "\n",
    "for v in V:\n",
    "    print('V:', v)"
   ]
  },
  {
   "cell_type": "code",
   "execution_count": null,
   "metadata": {},
   "outputs": [],
   "source": []
  }
 ],
 "metadata": {
  "kernelspec": {
   "display_name": "Python 3",
   "language": "python",
   "name": "python3"
  },
  "language_info": {
   "codemirror_mode": {
    "name": "ipython",
    "version": 3
   },
   "file_extension": ".py",
   "mimetype": "text/x-python",
   "name": "python",
   "nbconvert_exporter": "python",
   "pygments_lexer": "ipython3",
   "version": "3.6.6"
  }
 },
 "nbformat": 4,
 "nbformat_minor": 2
}
