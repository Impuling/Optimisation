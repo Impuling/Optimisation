{
 "cells": [
  {
   "cell_type": "code",
   "execution_count": 21,
   "metadata": {},
   "outputs": [],
   "source": [
    "from Optimization.Algorithms.Algorithm import Algorithm\n",
    "from Numerical_Objects.Vector import Vector\n",
    "\n",
    "import numpy as np "
   ]
  },
  {
   "cell_type": "code",
   "execution_count": 66,
   "metadata": {},
   "outputs": [],
   "source": [
    "class DolphinSearch(Algorithm):\n",
    "\n",
    "    def __init__(self, N, T1, T2, speed, M, A, e):\n",
    "        self._Dol = None\n",
    "        self._k = None\n",
    "        self._f_k = None\n",
    "        self._l = None\n",
    "        self._TS = np.full((N, N), np.inf)\n",
    "        self._N = N\n",
    "        self._T1 = T1\n",
    "        self._T2 = T2\n",
    "        self._speed = speed\n",
    "        self._M = M\n",
    "        self._A = A\n",
    "        self._e = e\n",
    "\n",
    "    @classmethod\n",
    "    def from_dict(cls, dict_data):\n",
    "        raise Exception(\"I don't want to do it and I'll not\")\n",
    "\n",
    "    @classmethod\n",
    "    def from_json(cls, json_data):\n",
    "        raise Exception('To be not-json or not to be not-json?')\n",
    "\n",
    "    def to_dict(self):\n",
    "        raise Exception('Why?')\n",
    "\n",
    "    def to_json(self):\n",
    "        raise Exception('No.')\n",
    "\n",
    "    @property\n",
    "    def current_state(self):\n",
    "        raise Exception(\"U definitely don't need it!\")\n",
    "\n",
    "    @property\n",
    "    def iterations(self):\n",
    "        return [self.get_new_solution,\n",
    "                # self.information_transfer,\n",
    "                # self.get_optimal_solution\n",
    "        ]\n",
    "\n",
    "    def initialize(self, f, area, seed = None):\n",
    "        self._Dol = []\n",
    "        self._f_k = []\n",
    "        for i in range(self._N):\n",
    "            point = {k: np.random.uniform(low, up) for k, (low, up) in area.items()}\n",
    "            point = Vector(point)\n",
    "            self._Dol.append(point)\n",
    "            self._f_k.append(f(point))\n",
    "        self._k = [dol.copy() for dol in self._Dol]\n",
    "        for f in alg._f_k:\n",
    "            print(f)\n",
    "\n",
    "    def get_new_solution(self, f, area):\n",
    "        self._l = []\n",
    "        fit_l = []\n",
    "        area_v = {k: (-1, 1) for k in area.keys()}\n",
    "\n",
    "        for i in range(self._N):\n",
    "            V = []\n",
    "            for m in range(self._M):\n",
    "                velocity = Vector({k: np.random.uniform(low, up) \n",
    "                                   for k, (low, up) in area_v.items()})\n",
    "                velocity = velocity * (self._speed / velocity.length)\n",
    "                V.append(velocity)\n",
    "            for m in range(self._M):\n",
    "                print('V: ', V[i])\n",
    "\n",
    "            sol = [self._Dol[i] + v * t for v in V for t in range(1, self._T1 + 1)]\n",
    "            sol = [s.constrain(area) for s in sol]\n",
    "            fit = list(map(f, sol))\n",
    "        \n",
    "            idx = np.argmin(fit)\n",
    "            sol_l = sol[idx]\n",
    "            print('sol_l: ', sol_l)\n",
    "            self._l.append(sol_l)\n",
    "            print('fit_l:', fit[idx])\n",
    "            fit_l.append(fit[idx])\n",
    "            \n",
    "            if fit_l[i] < self._f_k[i]:\n",
    "                self._k[i] = self._l[i].copy()\n",
    "                self._f_k[i] = fit_l[i]\n",
    "        # return self.information_transfer"
   ]
  },
  {
   "cell_type": "code",
   "execution_count": 67,
   "metadata": {
    "scrolled": true
   },
   "outputs": [
    {
     "name": "stdout",
     "output_type": "stream",
     "text": [
      "31.576218709594198\n",
      "65.55816014499712\n",
      "V:  (x1: 0.11560430653408232) x (x2: -4.99866338577732)\n",
      "V:  (x1: 0.11560430653408232) x (x2: -4.99866338577732)\n",
      "sol_l:  (x1: 4.969692289121039) x (x2: -2.167753891127397)\n",
      "fit_l: 29.396998381047087\n",
      "V:  (x1: -4.435481299242383) x (x2: 2.3079223652608216)\n",
      "V:  (x1: -4.435481299242383) x (x2: 2.3079223652608216)\n",
      "sol_l:  (x1: 3.0588957766201155) x (x2: 5.37263644487474)\n",
      "fit_l: 38.22206574102066\n"
     ]
    }
   ],
   "source": [
    "alg = DolphinSearch(N=2, T1=2, T2=3, speed=5, M=2, A=5, e=2)\n",
    "\n",
    "def mul(x):\n",
    "    result = 0\n",
    "    for val in x.values:\n",
    "        result += val ** 2 \n",
    "    return result\n",
    "\n",
    "area = {'x1': (-10, 10), 'x2': (-10, 10)}\n",
    "alg.initialize(mul, area)\n",
    "alg.get_new_solution(mul, area)"
   ]
  },
  {
   "cell_type": "code",
   "execution_count": 68,
   "metadata": {},
   "outputs": [
    {
     "name": "stdout",
     "output_type": "stream",
     "text": [
      "29.396998381047087\n",
      "38.22206574102066\n"
     ]
    }
   ],
   "source": [
    "for f in alg._f_k:\n",
    "    print(f)"
   ]
  }
 ],
 "metadata": {
  "kernelspec": {
   "display_name": "Python 3",
   "language": "python",
   "name": "python3"
  },
  "language_info": {
   "codemirror_mode": {
    "name": "ipython",
    "version": 3
   },
   "file_extension": ".py",
   "mimetype": "text/x-python",
   "name": "python",
   "nbconvert_exporter": "python",
   "pygments_lexer": "ipython3",
   "version": "3.6.5"
  }
 },
 "nbformat": 4,
 "nbformat_minor": 2
}
