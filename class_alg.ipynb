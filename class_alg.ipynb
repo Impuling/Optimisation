{
 "cells": [
  {
   "cell_type": "code",
   "execution_count": 2,
   "metadata": {},
   "outputs": [],
   "source": [
    "from Optimization.Algorithms.Algorithm import Algorithm\n",
    "from Numerical_Objects.Vector import Vector\n",
    "\n",
    "import numpy as np "
   ]
  },
  {
   "cell_type": "code",
   "execution_count": 54,
   "metadata": {},
   "outputs": [],
   "source": [
    "class DolphinSearch(Algorithm):\n",
    "\n",
    "    def __init__(self, N, T1, T2, speed, M, A, e):\n",
    "        self._k = None\n",
    "        self._f_k = None\n",
    "        self._TS = np.full((N, N), np.inf)\n",
    "        self._N = N\n",
    "        self._T1 = T1\n",
    "        self._T2 = T2\n",
    "        self._speed = speed\n",
    "        self._M = M\n",
    "        self._A = A\n",
    "        self._e = e\n",
    "\n",
    "    @classmethod\n",
    "    def from_dict(cls, dict_data):\n",
    "        raise Exception(\"I don't want to do it and I'll not\")\n",
    "\n",
    "    @classmethod\n",
    "    def from_json(cls, json_data):\n",
    "        raise Exception('To be not-json or not to be not-json?')\n",
    "\n",
    "    def to_dict(self):\n",
    "        raise Exception('Why?')\n",
    "\n",
    "    def to_json(self):\n",
    "        raise Exception('No.')\n",
    "\n",
    "    @property\n",
    "    def current_state(self):\n",
    "        raise Exception(\"U definitely don't need it!\")\n",
    "\n",
    "    @property\n",
    "    def iterations(self):\n",
    "        return [self.get_new_solution,\n",
    "                # self.information_transfer,\n",
    "                # self.get_optimal_solution\n",
    "        ]\n",
    "\n",
    "    def initialize(self, f, area, seed = None):\n",
    "        self._k = []\n",
    "        self._f_k = []\n",
    "        for i in range(self._N):\n",
    "            point = {k: np.random.uniform(low,up) for k, (low,up) in area.items()}\n",
    "            point = Vector(point)\n",
    "            self._k.append(point)\n",
    "            self._f_k.append(f(point))\n",
    "\n",
    "    def  get_new_solution(self, f, area):\n",
    "        V = []\n",
    "        solution = []\n",
    "        fitness = []\n",
    "        l = []\n",
    "        fit_l = []\n",
    "        area_v = {k: (-1, 1) for k, (low, up) in area.items()}\n",
    "\n",
    "        for i in range(self._M):\n",
    "            velocity = {k: np.random.uniform(low,up) for k, (low,up) in area_v.items()}\n",
    "            lgth = Vector(velocity).length\n",
    "            vec = Vector({k: self._speed * (val / lgth) for k, val in velocity.items()})\n",
    "            V.append(vec)\n",
    "\n",
    "        for dol in self._k:\n",
    "            sol = [dol + v * t for v in V for t in range(1, self._T1 + 1)]\n",
    "            fit = list(map(f, sol))\n",
    "            solution.append(sol)\n",
    "            fitness.append(fit)\n",
    "        \n",
    "        for i in range(self._N):\n",
    "            idx = np.argmin(fitness[i])\n",
    "            sol = solution[i]\n",
    "            sol_l = sol[idx]\n",
    "            l.append(sol_l)\n",
    "            print(l[i])\n",
    "            fit_l.append(f(sol_l))\n",
    "            print(fit_l[i])\n",
    "\n",
    "            if fit_l[i] < self._f_k[i]:\n",
    "                self._k[i] = l[i]\n",
    "                self._f_k[i] = fit_l[i]\n",
    "        # return self.information_transfer"
   ]
  },
  {
   "cell_type": "code",
   "execution_count": 55,
   "metadata": {},
   "outputs": [],
   "source": [
    "alg = DolphinSearch(N = 10, T1 = 2, T2 = 3, speed = 5, M = 2, A = 5, e = 2)"
   ]
  },
  {
   "cell_type": "code",
   "execution_count": 6,
   "metadata": {},
   "outputs": [],
   "source": [
    "def mul(x):\n",
    "    result = 1\n",
    "    for val in x.values:\n",
    "        result = result*val\n",
    "    return result"
   ]
  },
  {
   "cell_type": "code",
   "execution_count": 7,
   "metadata": {},
   "outputs": [],
   "source": [
    "area = {'x1': (-10, 10), 'x2': (-10, 10)}"
   ]
  },
  {
   "cell_type": "code",
   "execution_count": 62,
   "metadata": {},
   "outputs": [],
   "source": [
    "alg.initialize(mul, area)"
   ]
  },
  {
   "cell_type": "code",
   "execution_count": 63,
   "metadata": {},
   "outputs": [
    {
     "name": "stdout",
     "output_type": "stream",
     "text": [
      "(x1: 4.2830063226564175) x (x2: -0.4624323828643142)\n",
      "(x1: -2.6084151129862043) x (x2: -7.771645035955411)\n",
      "(x1: 8.284582818378933) x (x2: -7.0785437323096945)\n",
      "(x1: 9.647171213452545) x (x2: -4.249865626137506)\n",
      "(x1: 1.738462689252227) x (x2: -7.039412471483595)\n",
      "(x1: 9.593003920288506) x (x2: 6.642690943868136)\n",
      "(x1: 8.699338050773221) x (x2: 8.283470783336792)\n",
      "(x1: -6.276282552197903) x (x2: 0.25175020732428344)\n",
      "(x1: -4.606013105642422) x (x2: 4.627518606764109)\n",
      "(x1: -9.522133932549355) x (x2: -3.055891560260056)\n"
     ]
    }
   ],
   "source": [
    "for k in alg._k:\n",
    "    print(k)"
   ]
  },
  {
   "cell_type": "code",
   "execution_count": 64,
   "metadata": {},
   "outputs": [
    {
     "name": "stdout",
     "output_type": "stream",
     "text": [
      "-1.9806008196089309\n",
      "20.271676364550306\n",
      "-58.64278178383678\n",
      "-40.999181329515224\n",
      "-12.237755935931036\n",
      "63.72336026579198\n",
      "72.06071257795001\n",
      "-1.5800554337416048\n",
      "-21.31441134935965\n",
      "29.09860872014347\n"
     ]
    }
   ],
   "source": [
    "for f in alg._f_k:\n",
    "    print(f)"
   ]
  },
  {
   "cell_type": "code",
   "execution_count": 65,
   "metadata": {},
   "outputs": [
    {
     "name": "stdout",
     "output_type": "stream",
     "text": [
      "(x2: 0.645792525420753) x (x1: -5.655395840299988)\n",
      "-3.652212361961351\n",
      "(x2: -3.250295595652916) x (x1: -0.4736085084722692)\n",
      "1.5393676491511632\n",
      "(x2: -2.5571942920071997) x (x1: 10.419389422892868)\n",
      "-26.644403158421834\n",
      "(x2: -3.6957531719949723) x (x1: 4.677970131974342)\n",
      "-17.288622953741914\n",
      "(x2: -2.5180630311811) x (x1: 3.873269293766162)\n",
      "-9.753136218441501\n",
      "(x2: 7.750915852153203) x (x1: -0.3453982426678994)\n",
      "-2.6771527144004805\n",
      "(x2: 9.391695691621859) x (x1: -1.2390641121831845)\n",
      "-11.636913084034077\n",
      "(x2: 1.3599751156093507) x (x1: -16.21468471515431)\n",
      "-22.051567720061154\n",
      "(x2: 5.735743515049177) x (x1: -14.544415268598827)\n",
      "-83.42303555704795\n",
      "(x2: 5.9868073203449335) x (x1: -5.252520723521485)\n",
      "-31.445829517841894\n"
     ]
    }
   ],
   "source": [
    "alg.get_new_solution(mul, area)"
   ]
  },
  {
   "cell_type": "code",
   "execution_count": 66,
   "metadata": {},
   "outputs": [
    {
     "name": "stdout",
     "output_type": "stream",
     "text": [
      "(x2: 0.645792525420753) x (x1: -5.655395840299988)\n",
      "(x2: -3.250295595652916) x (x1: -0.4736085084722692)\n",
      "(x1: 8.284582818378933) x (x2: -7.0785437323096945)\n",
      "(x1: 9.647171213452545) x (x2: -4.249865626137506)\n",
      "(x1: 1.738462689252227) x (x2: -7.039412471483595)\n",
      "(x2: 7.750915852153203) x (x1: -0.3453982426678994)\n",
      "(x2: 9.391695691621859) x (x1: -1.2390641121831845)\n",
      "(x2: 1.3599751156093507) x (x1: -16.21468471515431)\n",
      "(x2: 5.735743515049177) x (x1: -14.544415268598827)\n",
      "(x2: 5.9868073203449335) x (x1: -5.252520723521485)\n"
     ]
    }
   ],
   "source": [
    "for k in alg._k:\n",
    "    print(k)"
   ]
  }
 ],
 "metadata": {
  "kernelspec": {
   "display_name": "Python 3",
   "language": "python",
   "name": "python3"
  },
  "language_info": {
   "codemirror_mode": {
    "name": "ipython",
    "version": 3
   },
   "file_extension": ".py",
   "mimetype": "text/x-python",
   "name": "python",
   "nbconvert_exporter": "python",
   "pygments_lexer": "ipython3",
   "version": "3.6.5"
  }
 },
 "nbformat": 4,
 "nbformat_minor": 2
}
