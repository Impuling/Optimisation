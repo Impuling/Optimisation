{
 "cells": [
  {
   "cell_type": "code",
   "execution_count": 21,
   "metadata": {},
   "outputs": [],
   "source": [
    "from Optimization.Algorithms.Algorithm import Algorithm\n",
    "from Numerical_Objects.Vector import Vector\n",
    "\n",
    "import numpy as np "
   ]
  },
  {
   "cell_type": "code",
   "execution_count": 22,
   "metadata": {},
   "outputs": [],
   "source": [
    "class DolphinSearch(Algorithm):\n",
    "\n",
    "    def __init__(self, N, T1, T2, speed, M, A, e):\n",
    "        self._Dol = None\n",
    "        self._k = None\n",
    "        self._f_k = None\n",
    "        self._l = None\n",
    "        self._TS = np.full((N, N), np.inf)\n",
    "        self._N = N\n",
    "        self._T1 = T1\n",
    "        self._T2 = T2\n",
    "        self._speed = speed\n",
    "        self._M = M\n",
    "        self._A = A\n",
    "        self._e = e\n",
    "\n",
    "    @classmethod\n",
    "    def from_dict(cls, dict_data):\n",
    "        raise Exception(\"I don't want to do it and I'll not\")\n",
    "\n",
    "    @classmethod\n",
    "    def from_json(cls, json_data):\n",
    "        raise Exception('To be not-json or not to be not-json?')\n",
    "\n",
    "    def to_dict(self):\n",
    "        raise Exception('Why?')\n",
    "\n",
    "    def to_json(self):\n",
    "        raise Exception('No.')\n",
    "\n",
    "    @property\n",
    "    def current_state(self):\n",
    "        raise Exception(\"U definitely don't need it!\")\n",
    "\n",
    "    @property\n",
    "    def iterations(self):\n",
    "        return [self.get_new_solution,\n",
    "                # self.information_transfer,\n",
    "                # self.get_optimal_solution\n",
    "        ]\n",
    "\n",
    "    def initialize(self, f, area, seed = None):\n",
    "        self._Dol = []\n",
    "        self._f_k = []\n",
    "        for i in range(self._N):\n",
    "            point = {k: np.random.uniform(low, up) for k, (low, up) in area.items()}\n",
    "            point = Vector(point)\n",
    "            self._Dol.append(point)\n",
    "            self._f_k.append(f(point))\n",
    "        self._k = [dol for dol in self._Dol]\n",
    "        for f in alg._f_k:\n",
    "            print(f)\n",
    "\n",
    "    def get_new_solution(self, f, area):\n",
    "        V_dol = []\n",
    "        solution = []\n",
    "        fitness = []\n",
    "        self._l = []\n",
    "        fit_l = []\n",
    "        area_v = {k: (-1, 1) for k in area.keys()}\n",
    "\n",
    "        for i in range(self._N):\n",
    "            V = []\n",
    "            for m in range(self._M):\n",
    "                velocity = Vector({k: np.random.uniform(low, up) for k, (low, up) in area_v.items()})\n",
    "                v = self._speed * (velocity * (1.0 / velocity.length))\n",
    "                V.append(v)\n",
    "            V_dol.append(V)\n",
    "        for i in range(self._N):\n",
    "            for v in V_dol[i]:\n",
    "                print(i, 'V: ', v)\n",
    "\n",
    "        for i in range(self._N):\n",
    "            sol = [self._Dol[i] + v * t for v in V_dol[i] for t in range(1, self._T1 + 1)]\n",
    "            print('sol: ', sol)\n",
    "            fit = list(map(f, sol))\n",
    "            solution.append(sol)\n",
    "            fitness.append(fit)\n",
    "        \n",
    "        for i in range(self._N):\n",
    "            idx = np.argmin(fitness[i])\n",
    "            sol = solution[i]\n",
    "            sol_l = sol[idx]\n",
    "            self._l.append(sol_l)\n",
    "            print(self._l[i])\n",
    "            fit_l.append(f(sol_l))\n",
    "            print(fit_l[i])\n",
    "\n",
    "            if fit_l[i] < self._f_k[i]:\n",
    "                self._k[i] = self._l[i]\n",
    "                self._f_k[i] = fit_l[i]\n",
    "        # return self.information_transfer"
   ]
  },
  {
   "cell_type": "code",
   "execution_count": 23,
   "metadata": {
    "scrolled": true
   },
   "outputs": [
    {
     "name": "stdout",
     "output_type": "stream",
     "text": [
      "48.97259159074484\n",
      "87.4627452733481\n",
      "0 V:  (x1: 4.504844577287567) x (x2: 2.1694182018418653)\n",
      "0 V:  (x1: 0.8019864079534904) x (x2: -4.93526268819177)\n",
      "1 V:  (x1: 4.43203024363073) x (x2: 2.314542702034796)\n",
      "1 V:  (x1: -4.629901111378755) x (x2: -1.8878600845544047)\n",
      "sol:  [<Numerical_Objects.Vector.Vector object at 0x7fd051aee438>, <Numerical_Objects.Vector.Vector object at 0x7fd051aee390>, <Numerical_Objects.Vector.Vector object at 0x7fd051aee3c8>, <Numerical_Objects.Vector.Vector object at 0x7fd051aee4a8>]\n",
      "sol:  [<Numerical_Objects.Vector.Vector object at 0x7fd051aee358>, <Numerical_Objects.Vector.Vector object at 0x7fd051aee2b0>, <Numerical_Objects.Vector.Vector object at 0x7fd051aee2e8>, <Numerical_Objects.Vector.Vector object at 0x7fd051aee400>]\n",
      "(x1: 7.402966123332055) x (x2: -7.258979191534116)\n",
      "107.49668632632732\n",
      "(x1: 2.296399788107836) x (x2: -8.171895501634685)\n",
      "72.05332807645891\n"
     ]
    }
   ],
   "source": [
    "alg = DolphinSearch(N=2, T1=2, T2=3, speed=5, M=2, A=5, e=2)\n",
    "\n",
    "def mul(x):\n",
    "    result = 0\n",
    "    for val in x.values:\n",
    "        result += val ** 2 \n",
    "    return result\n",
    "\n",
    "area = {'x1': (-10, 10), 'x2': (-10, 10)}\n",
    "alg.initialize(mul, area)\n",
    "alg.get_new_solution(mul, area)"
   ]
  },
  {
   "cell_type": "code",
   "execution_count": 24,
   "metadata": {},
   "outputs": [
    {
     "name": "stdout",
     "output_type": "stream",
     "text": [
      "48.97259159074484\n",
      "72.05332807645891\n"
     ]
    }
   ],
   "source": [
    "for f in alg._f_k:\n",
    "    print(f)"
   ]
  }
 ],
 "metadata": {
  "kernelspec": {
   "display_name": "Python 3",
   "language": "python",
   "name": "python3"
  },
  "language_info": {
   "codemirror_mode": {
    "name": "ipython",
    "version": 3
   },
   "file_extension": ".py",
   "mimetype": "text/x-python",
   "name": "python",
   "nbconvert_exporter": "python",
   "pygments_lexer": "ipython3",
   "version": "3.6.5"
  }
 },
 "nbformat": 4,
 "nbformat_minor": 2
}
